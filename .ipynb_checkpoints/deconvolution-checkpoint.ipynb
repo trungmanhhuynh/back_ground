{
 "cells": [
  {
   "cell_type": "markdown",
   "metadata": {},
   "source": [
    "# Deconvolution 1D"
   ]
  },
  {
   "cell_type": "code",
   "execution_count": 1,
   "metadata": {},
   "outputs": [],
   "source": [
    "import torch\n",
    "import torch.nn as nn\n",
    "from torch.autograd import Variable"
   ]
  },
  {
   "cell_type": "markdown",
   "metadata": {},
   "source": [
    "The illustration of 1D deconvolution or transpose convolution is explained in the figure below.While convolution preserves the length of input, deconv can be used to decompress a signal, where the output layer can have more neurons than inputs. Though the idea of deconv is difrerent from conv (or reverse meaning), we basically can deconv an input signal by using conv operations. To achieve it, we need to **pad input signal (y) with zeros and apply conv on it**.\n",
    "<img src=\"./images/deconv_img1.jpeg\" width=\"500\">\n",
    "\n"
   ]
  },
  {
   "cell_type": "code",
   "execution_count": 12,
   "metadata": {},
   "outputs": [
    {
     "name": "stdout",
     "output_type": "stream",
     "text": [
      "input = tensor([[[1., 1.]]])\n",
      "weight.data =  tensor([[[1., 1., 1.]]])\n",
      "output = tensor([[[1., 1., 2., 1., 1.]]], grad_fn=<SqueezeBackward1>)\n"
     ]
    }
   ],
   "source": [
    "deconv = nn.ConvTranspose1d(in_channels=1, out_channels=1, kernel_size =3, stride = 1, padding = 0, bias = 0)\n",
    "deconv.weight.data = torch.tensor([[[1,1,1]]], dtype = torch.float)\n",
    "\n",
    "input = torch.tensor([[[1,1]]], dtype = torch.float)\n",
    "output = deconv(input)\n",
    "\n",
    "print(\"input =\", input)\n",
    "print(\"weight.data = \",deconv.weight.data  )\n",
    "print(\"output =\", output)\n"
   ]
  },
  {
   "cell_type": "markdown",
   "metadata": {},
   "source": [
    "## References\n",
    "\n",
    "https://medium.com/apache-mxnet/transposed-convolutions-explained-with-ms-excel-52d13030c7e8  \n",
    "https://distill.pub/2016/deconv-checkerboard/  \n",
    "https://towardsdatascience.com/is-the-transposed-convolution-layer-and-convolution-layer-the-same-thing-8655b751c3a1  \n",
    "https://medium.com/@santi.pdp/how-pytorch-transposed-convs1d-work-a7adac63c4a5  \n",
    "\n",
    "\n"
   ]
  },
  {
   "cell_type": "code",
   "execution_count": null,
   "metadata": {},
   "outputs": [],
   "source": []
  },
  {
   "cell_type": "code",
   "execution_count": null,
   "metadata": {},
   "outputs": [],
   "source": []
  }
 ],
 "metadata": {
  "kernelspec": {
   "display_name": "Python 3",
   "language": "python",
   "name": "python3"
  },
  "language_info": {
   "codemirror_mode": {
    "name": "ipython",
    "version": 3
   },
   "file_extension": ".py",
   "mimetype": "text/x-python",
   "name": "python",
   "nbconvert_exporter": "python",
   "pygments_lexer": "ipython3",
   "version": "3.7.3"
  }
 },
 "nbformat": 4,
 "nbformat_minor": 2
}
