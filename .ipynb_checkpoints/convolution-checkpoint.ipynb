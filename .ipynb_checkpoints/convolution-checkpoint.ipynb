{
 "cells": [
  {
   "cell_type": "markdown",
   "metadata": {},
   "source": [
    "# Convolutions with pytorch"
   ]
  },
  {
   "cell_type": "code",
   "execution_count": 15,
   "metadata": {},
   "outputs": [],
   "source": [
    "import torch\n",
    "import torch.nn as nn\n",
    "from torch.autograd import Variable"
   ]
  },
  {
   "cell_type": "markdown",
   "metadata": {},
   "source": [
    "## 1D convolution \n",
    "\n",
    "**class torch.nn.Conv1d(in_channels, out_channels, kernel_size, stride=1, padding=0, dilation=1, groups=1, bias=True)**\n",
    "The first three parameters must be set and are the most important parameters. \n",
    "- **in_channels** is the number of channels of inputs. For example, if input signal has 2 different features (x,y) as spatial locations,the input channels are 2. \n",
    "- **out_channels** is the number of channels for outputs. Note that **#out_channels** is independent with **#in_channels**. \n",
    "- **kernel_size** is the size of kernel, is must be not greater than the size of each input channel. \n",
    "\n",
    "#### Example  of 1 input_channel, 1 output channel, and kernel size = 3"
   ]
  },
  {
   "cell_type": "code",
   "execution_count": 25,
   "metadata": {},
   "outputs": [
    {
     "name": "stdout",
     "output_type": "stream",
     "text": [
      "weights: tensor([[[ 0.2975, -0.2548, -0.1119]]])\n",
      "bias: tensor([0.2710])\n",
      "ouput: tensor([[[-0.2770, -0.3462, -0.4155]]], grad_fn=<SqueezeBackward1>)\n"
     ]
    }
   ],
   "source": [
    "torch.manual_seed(1)         # same weights for each run\n",
    "m = nn.Conv1d(1, 1, kernel_size=3, bias = True)\n",
    "print(\"weights:\", m.weight.data)   # print out weights, size []\n",
    "print(\"bias:\", m.bias.data)   # print out weights, size []\n",
    "\n",
    "input = Variable(torch.tensor([[[1,2,3,4,5]]], dtype=torch.float))\n",
    "output = m(input)\n",
    "print(\"ouput:\", output.data)\n",
    "print(\"ouput:\", output.data)"
   ]
  },
  {
   "cell_type": "code",
   "execution_count": 20,
   "metadata": {},
   "outputs": [
    {
     "name": "stdout",
     "output_type": "stream",
     "text": [
      "Conv1d(1, 1, kernel_size=(3,), stride=(1,))\n",
      "torch.Size([1, 1, 3])\n",
      "torch.Size([1])\n"
     ]
    }
   ],
   "source": [
    "print(m)\n",
    "print(m.weight.shape)   # print out weights, size []\n",
    "print(m.bias.shape)"
   ]
  },
  {
   "cell_type": "code",
   "execution_count": null,
   "metadata": {},
   "outputs": [],
   "source": []
  }
 ],
 "metadata": {
  "kernelspec": {
   "display_name": "Python 3",
   "language": "python",
   "name": "python3"
  },
  "language_info": {
   "codemirror_mode": {
    "name": "ipython",
    "version": 3
   },
   "file_extension": ".py",
   "mimetype": "text/x-python",
   "name": "python",
   "nbconvert_exporter": "python",
   "pygments_lexer": "ipython3",
   "version": "3.7.3"
  }
 },
 "nbformat": 4,
 "nbformat_minor": 2
}
