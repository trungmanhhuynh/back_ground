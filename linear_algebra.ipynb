{
 "cells": [
  {
   "cell_type": "markdown",
   "metadata": {
    "hideCode": false,
    "hidePrompt": false
   },
   "source": [
    "# Linear Algebra \n",
    "\n",
    "\n",
    "1. Ian Goodfellow presented a amazing summary of linear algebra for machine learning in a chapter of his book. [pdf](http://www.deeplearningbook.org/contents/linear_algebra.html)\n",
    "\n",
    "2. Elementary Linear Algebra_Ron_Larson (https://bonniekhanhtran.files.wordpress.com/2016/05/math-g235.pdf)\n",
    "\n",
    "\n",
    "<h3> Properties of Matrix Transpose </h3>\n",
    "\n",
    "<img src=\"./images/linear_fig1.JPG\" width=\"500\">\n",
    "\n",
    "<h3> Properties of Matrix Inverse </h3>\n",
    "\n",
    "**Matrix $A$ is invertible (nonsingular) if A is square matrix and consists of linearly independent collumns. (A matrix is called singular if it consists of linearly dependent collumns).**\n",
    "\n",
    " **Proof 1:** We can think that when $A (mxn)$ is invertible then the linear equation $Ax =b$ does have only solution $x =A^{-1}b$. To achieve this, we can think of the span of column vectors of A in collumn space. Since $Ax = a_{:,1}x_1 + a_{:,2}x_2 + a_{:,n} x_n $, where $a_{:,i}$ is $i^{th}$ column of matrix $A$, $x_i$ is the $i^{th}$ element of vector $x$, $Ax$ is the linear combination of all collums of $A$ and $x$ is coefficents. There is two requirements:\n",
    " \n",
    "  a) Columns of A must span the space $\\mathbb{R}^{m}$ meaning that every points $b \\in \\mathbb{R}^{m}$, can be described as a linear combination with some coefficients $x$ of columns of $A$. Thus, all collums of $A$ must be linearly independent and the number of columns $n$ of $A$ must be equal or more than number of rows $m$ ( $n \\geq m$ ).\n",
    "  \n",
    "  b) Since there is only one solution $x$, $A$ must be square matrix ($m = n$), else more than one solution exists because there exists more than one set of linearly independent in $A$. This could be also be explain that if A is not square matrix $AB \\neq BA$, this contradicts the definition of the inverse of matrix$.\n",
    "  \n",
    " **How to find inverse of a matrix?** \n",
    "  <img src=\"./images/linear_inverse_1.JPG\" width=\"500\">\n",
    "\n",
    "  \n",
    " **Theorems**\n",
    " 1. If A and B are invertible, then $(AB)^{-1} = B^{-1}A^{-1}$\n",
    " 1. $(cA)^{-1} = 1/cA^{-1}$\n",
    " 1. $(A^T)^{-1} = (A^{-1})^T$\n",
    " 1. $(A^k)^{-1} = (A^{-1})^k$\n",
    "\n"
   ]
  },
  {
   "cell_type": "code",
   "execution_count": null,
   "metadata": {
    "hideCode": false,
    "hidePrompt": false
   },
   "outputs": [],
   "source": []
  }
 ],
 "metadata": {
  "hide_code_all_hidden": false,
  "kernelspec": {
   "display_name": "Python 3",
   "language": "python",
   "name": "python3"
  },
  "language_info": {
   "codemirror_mode": {
    "name": "ipython",
    "version": 3
   },
   "file_extension": ".py",
   "mimetype": "text/x-python",
   "name": "python",
   "nbconvert_exporter": "python",
   "pygments_lexer": "ipython3",
   "version": "3.7.3"
  }
 },
 "nbformat": 4,
 "nbformat_minor": 2
}
