{
 "cells": [
  {
   "cell_type": "markdown",
   "metadata": {},
   "source": [
    "# Convolutions with pytorch"
   ]
  },
  {
   "cell_type": "code",
   "execution_count": 18,
   "metadata": {},
   "outputs": [],
   "source": [
    "import torch\n",
    "import torch.nn as nn\n",
    "from torch.autograd import Variable"
   ]
  },
  {
   "cell_type": "markdown",
   "metadata": {},
   "source": [
    "## 1D convolution \n",
    "\n",
    "**class torch.nn.Conv1d(in_channels, out_channels, kernel_size, stride=1, padding=0, dilation=1, groups=1, bias=True)**\n",
    "The first three parameters must be set and are the most important parameters. \n",
    "- **in_channels** is the number of channels of inputs. For example, if input signal has 2 different features (x,y) as spatial locations,the input channels are 2. \n",
    "- **out_channels** is the number of channels for outputs. Note that **#out_channels** is independent with **#in_channels**. \n",
    "- **kernel_size** is the size of kernel, is must be not greater than the size of each input channel. \n",
    "\n",
    "#### Example 1:  1 input_channel, 1 output channel, and kernel size = 3\n",
    "\n",
    "The first value of output is calcualted as: $output[0] = kernel[0] \\times input[0] +  kernel[1] \\times input[1] + kernel[2] \\times input[2] + bias$. This formular is applied for all other ouput elements when kernel is sliding through the inputs."
   ]
  },
  {
   "cell_type": "code",
   "execution_count": 22,
   "metadata": {},
   "outputs": [
    {
     "name": "stdout",
     "output_type": "stream",
     "text": [
      "weights: tensor([[[ 0.2975, -0.2548, -0.1119]]])\n",
      "bias: tensor([0.2710])\n",
      "input: tensor([[[1., 2., 3., 4., 5.]]])\n",
      "ouput: tensor([[[-0.2770, -0.3462, -0.4155]]])\n"
     ]
    }
   ],
   "source": [
    "torch.manual_seed(1)         # same weights for each run\n",
    "m = nn.Conv1d(1, 1, kernel_size= 3, bias = True)\n",
    "print(\"weights:\", m.weight.data)   # print out weights, size []\n",
    "print(\"bias:\", m.bias.data)   # print out weights, size []\n",
    "\n",
    "input = Variable(torch.tensor([[[1,2,3,4,5]]], dtype=torch.float))\n",
    "output = m(input)\n",
    "print(\"input:\", input.data)\n",
    "print(\"ouput:\", output.data)"
   ]
  },
  {
   "cell_type": "code",
   "execution_count": 23,
   "metadata": {},
   "outputs": [
    {
     "name": "stdout",
     "output_type": "stream",
     "text": [
      "-0.27680000000000005\n"
     ]
    }
   ],
   "source": [
    "# sanity check\n",
    "output0 = 0.2975*1 - 0.2548*2 - 0.1119*3 + 0.2710\n",
    "print(output0)"
   ]
  },
  {
   "cell_type": "markdown",
   "metadata": {},
   "source": [
    "Note that although this is 1DConv, the weights of this operation is still 3d tensor with size (#out_channels, #inchannels, kernel_size). In this examples, size of weights is [1,1,3]. Because of this, the input (although it is 1D), it should be written in form of 3D tensor.\n",
    "#### Example 2: multiple input channels, 1 ouput channel, and kernel size =3.\n",
    " $output[0] = kernel[0,0] \\times input[0,0] +  kernel[0,1] \\times input[0,1] + kernel[0, 2] \\times input[0, 2] + kernel[1,0] \\times input[1,0] +  kernel[1,1] \\times input[1,1] + kernel[1, 2] \\times input[1, 2] + bias$\n",
    " \n",
    " It's SUM of conv1d on each channel and one bias per output channel. "
   ]
  },
  {
   "cell_type": "code",
   "execution_count": 29,
   "metadata": {},
   "outputs": [
    {
     "name": "stdout",
     "output_type": "stream",
     "text": [
      "weights: tensor([[[-0.2167,  0.1201, -0.1179],\n",
      "         [-0.0448, -0.3925, -0.1946]]])\n",
      "bias: tensor([0.2215])\n",
      "input: tensor([[[1., 2., 3., 4., 5.],\n",
      "         [1., 2., 3., 4., 5.]]])\n",
      "ouput: tensor([[[-1.5224, -2.3688, -3.2152]]])\n"
     ]
    }
   ],
   "source": [
    "m = nn.Conv1d(2, 1, kernel_size= 3, bias = True)\n",
    "print(\"weights:\", m.weight.data)   # print out weights, size []\n",
    "print(\"bias:\", m.bias.data)   # print out weights, size []\n",
    "\n",
    "input = Variable(torch.tensor([[[1,2,3,4,5],[1,2,3,4,5]]], dtype=torch.float))\n",
    "output = m(input)\n",
    "print(\"input:\", input.data)\n",
    "print(\"ouput:\", output.data)"
   ]
  },
  {
   "cell_type": "code",
   "execution_count": 34,
   "metadata": {},
   "outputs": [
    {
     "name": "stdout",
     "output_type": "stream",
     "text": [
      "-1.5223000000000002\n"
     ]
    }
   ],
   "source": [
    "output0 = -0.2167*1 + 0.1201*2 - 0.1179*3  - 0.0448*1  - 0.3925*2  - 0.1946*3 + 0.2215 \n",
    "print(output0)"
   ]
  },
  {
   "cell_type": "markdown",
   "metadata": {},
   "source": [
    "#### Example 3: multiple input channels, multiple ouput channels, and kernel size =3.\n",
    "\n",
    "To generate each ouput channel, a different set of kernels (#set of kernel = #out_channels) are used. Each set of kernels\n",
    "consists of kernel_size x #in_channels and a bias (as same as example 2)."
   ]
  },
  {
   "cell_type": "code",
   "execution_count": 35,
   "metadata": {},
   "outputs": [
    {
     "name": "stdout",
     "output_type": "stream",
     "text": [
      "weights: tensor([[[-0.0992,  0.4066,  0.3272],\n",
      "         [-0.0191, -0.2725,  0.2486]],\n",
      "\n",
      "        [[ 0.1267, -0.2639,  0.2652],\n",
      "         [ 0.2478,  0.3621, -0.2288]]])\n",
      "bias: tensor([-0.0672, -0.0079])\n",
      "input: tensor([[[1., 2., 3., 4., 5.],\n",
      "         [1., 2., 3., 4., 5.]]])\n",
      "ouput: tensor([[[1.8103, 2.4019, 2.9936],\n",
      "         [0.6720, 1.1810, 1.6901]]])\n"
     ]
    }
   ],
   "source": [
    "m = nn.Conv1d(2, 2, kernel_size= 3, bias = True)\n",
    "print(\"weights:\", m.weight.data)   # print out weights, size []\n",
    "print(\"bias:\", m.bias.data)   # print out weights, size []\n",
    "\n",
    "input = Variable(torch.tensor([[[1,2,3,4,5],[1,2,3,4,5]]], dtype=torch.float))\n",
    "output = m(input)\n",
    "print(\"input:\", input.data)\n",
    "print(\"ouput:\", output.data)"
   ]
  },
  {
   "cell_type": "code",
   "execution_count": null,
   "metadata": {},
   "outputs": [],
   "source": []
  }
 ],
 "metadata": {
  "kernelspec": {
   "display_name": "Python 3",
   "language": "python",
   "name": "python3"
  },
  "language_info": {
   "codemirror_mode": {
    "name": "ipython",
    "version": 3
   },
   "file_extension": ".py",
   "mimetype": "text/x-python",
   "name": "python",
   "nbconvert_exporter": "python",
   "pygments_lexer": "ipython3",
   "version": "3.7.3"
  }
 },
 "nbformat": 4,
 "nbformat_minor": 2
}
