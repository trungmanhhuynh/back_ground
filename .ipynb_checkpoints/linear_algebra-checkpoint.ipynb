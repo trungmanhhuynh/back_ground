{
 "cells": [
  {
   "cell_type": "markdown",
   "metadata": {
    "hideCode": false,
    "hidePrompt": false
   },
   "source": [
    "# Linear Algebra \n",
    "\n",
    "\n",
    "1. Ian Goodfellow presented a amazing summary of linear algebra for machine learning in a chapter of his book. [pdf](http://www.deeplearningbook.org/contents/linear_algebra.html)\n",
    "\n",
    "2. Elementary Linear Algebra_Ron_Larson (https://bonniekhanhtran.files.wordpress.com/2016/05/math-g235.pdf)\n",
    "\n",
    "\n",
    "<h3> Properties of Matrix Transpose </h3>\n",
    "\n",
    "<img src=\"./images/linear_fig1.JPG\" width=\"500\">\n",
    "\n",
    "<h3> Properties of Matrix Inverse </h3>\n",
    "1. Matrix $A$ is invertible (nonsingular) if A is square matrix and consists of linearly independent collumns. (A matrix is called singular if it consists of linearly dependent collumns). Why is that ? There are two ways to explain this. We can think that when A is invertible then the linear equation $Ax =b$ does have only solution $x =A^{-1}b$.\n",
    "\n",
    "\n"
   ]
  },
  {
   "cell_type": "code",
   "execution_count": null,
   "metadata": {
    "hideCode": false,
    "hidePrompt": false
   },
   "outputs": [],
   "source": []
  }
 ],
 "metadata": {
  "hide_code_all_hidden": false,
  "kernelspec": {
   "display_name": "Python 3",
   "language": "python",
   "name": "python3"
  },
  "language_info": {
   "codemirror_mode": {
    "name": "ipython",
    "version": 3
   },
   "file_extension": ".py",
   "mimetype": "text/x-python",
   "name": "python",
   "nbconvert_exporter": "python",
   "pygments_lexer": "ipython3",
   "version": "3.7.3"
  }
 },
 "nbformat": 4,
 "nbformat_minor": 2
}
